{
 "cells": [
  {
   "cell_type": "markdown",
   "id": "ac067a32",
   "metadata": {},
   "source": [
    "### Search for the Generated Data \n",
    "#### Visualize components of the Pewlett Hackard Dataset\n",
    "#### Determine if data provided is likely to be actually company data or a generated dataset for testing\n"
   ]
  },
  {
   "cell_type": "code",
   "execution_count": 1,
   "id": "5b2aa013",
   "metadata": {},
   "outputs": [],
   "source": [
    "import pandas as pd \n",
    "import os\n",
    "import pyodbc\n",
    "from sqlalchemy import create_engine\n",
    "import sqlalchemy as db\n",
    "import matplotlib.pyplot as plt\n",
    "import random as np\n",
    "from config import User"
   ]
  },
  {
   "cell_type": "code",
   "execution_count": 2,
   "id": "e1c4852f",
   "metadata": {},
   "outputs": [],
   "source": [
    "# Create connection to the database\n",
    "cestring = f'{User}PHEmpDB'\n",
    "engine = create_engine(cestring)\n",
    "connection = engine.connect()"
   ]
  },
  {
   "cell_type": "markdown",
   "id": "892c1ddc",
   "metadata": {},
   "source": [
    "### Primary Method\n",
    "#### Pull in each table from the database one at and time an join them in pandas Data Frame\n",
    "### Employee Table"
   ]
  },
  {
   "cell_type": "code",
   "execution_count": 9,
   "id": "3689e380",
   "metadata": {},
   "outputs": [
    {
     "data": {
      "text/plain": [
       "False"
      ]
     },
     "execution_count": 9,
     "metadata": {},
     "output_type": "execute_result"
    }
   ],
   "source": [
    "# Define variable and get data from db table \n",
    "metadata = db.MetaData()\n",
    "DataIn = db.Table('employees', metadata, autoload=True, autoload_with=engine)\n",
    "\n",
    "# Define and call query / Get results and assign to a variable \n",
    "query = db.select([DataIn])\n",
    "ResultProxy = connection.execute(query)\n",
    "ResultSet = ResultProxy.fetchall()\n",
    "\n",
    "# Build Data Frame from query results variable and give it column names from the database\n",
    "Employees = pd.DataFrame(ResultSet)\n",
    "Employees.columns = ResultSet[0].keys()\n",
    "Salary.isnull().values.any()"
   ]
  },
  {
   "cell_type": "markdown",
   "id": "aa305331",
   "metadata": {},
   "source": [
    "### Repeat process for Salary Table "
   ]
  },
  {
   "cell_type": "code",
   "execution_count": 7,
   "id": "8c9aaf8f",
   "metadata": {},
   "outputs": [
    {
     "data": {
      "text/plain": [
       "False"
      ]
     },
     "execution_count": 7,
     "metadata": {},
     "output_type": "execute_result"
    }
   ],
   "source": [
    "# Define variable and get data from db table \n",
    "metadata = db.MetaData()\n",
    "DataIn = db.Table('salary', metadata, autoload=True, autoload_with=engine)\n",
    "\n",
    "# Define and call query / Get results and assign to a variable \n",
    "query = db.select([DataIn])\n",
    "ResultProxy = connection.execute(query)\n",
    "ResultSet = ResultProxy.fetchall()\n",
    "ResultSet[:5]\n",
    "\n",
    "# Build Data Frame from query results variable and give it column names from the database\n",
    "Salary = pd.DataFrame(ResultSet)\n",
    "Salary.columns = ResultSet[0].keys()\n",
    "Salary.isnull().values.any()"
   ]
  },
  {
   "cell_type": "markdown",
   "id": "b1960aa1",
   "metadata": {},
   "source": [
    "### Repeat process for Title Table "
   ]
  },
  {
   "cell_type": "code",
   "execution_count": 8,
   "id": "5b8dfa26",
   "metadata": {},
   "outputs": [
    {
     "data": {
      "text/plain": [
       "False"
      ]
     },
     "execution_count": 8,
     "metadata": {},
     "output_type": "execute_result"
    }
   ],
   "source": [
    "# Define variable and get data from db table \n",
    "metadata = db.MetaData()\n",
    "DataIn = db.Table('titles', metadata, autoload=True, autoload_with=engine)\n",
    "\n",
    "# Define and call query / Get results and assign to a variable \n",
    "query = db.select([DataIn])\n",
    "ResultProxy = connection.execute(query)\n",
    "ResultSet = ResultProxy.fetchall()\n",
    "ResultSet[:5]\n",
    "\n",
    "# Build Data Frame from query results variable and give it column names from the database\n",
    "Title = pd.DataFrame(ResultSet)\n",
    "Title.columns = ResultSet[0].keys()\n",
    "Title.isnull().values.any()"
   ]
  },
  {
   "cell_type": "code",
   "execution_count": 6,
   "id": "182a1c9f",
   "metadata": {},
   "outputs": [],
   "source": [
    "# Convert the string salary to numbers that can be plotted\n",
    "# When table was created cast salary as money, step to demoneyfy\n",
    "Salary['salary'] = Salary['salary'].replace({'\\$': '', ',': ''}, regex=True).astype(float)"
   ]
  },
  {
   "cell_type": "code",
   "execution_count": 7,
   "id": "577ebc79",
   "metadata": {},
   "outputs": [
    {
     "data": {
      "image/png": "[encoded data removed]",
      "text/plain": [
       "<Figure size 432x288 with 1 Axes>"
      ]
     },
     "metadata": {
      "needs_background": "light"
     },
     "output_type": "display_data"
    }
   ],
   "source": [
    "# Display Salary Histogram \n",
    "Salary.hist(column='salary');"
   ]
  },
  {
   "cell_type": "markdown",
   "id": "3a9d8e5a",
   "metadata": {},
   "source": [
    "### Salary Analysis \n",
    "####  While it is not unusual for salary ranges to skew to the low range, the lack of any low range compensation seems suspicious. It is possible that this company has a policy of minimum salaries (like that attempted by Ben and Jerry's), which could explain this result. Question like why are there no salaries under $40,000 would need to be asked.\n",
    "\n",
    "Note: These salary numbers reach back to the mid 80's and Ben and Jerry's minimum salary for 2020 was $37,710.40, and even this number falls below the lowest salary reported by our company. "
   ]
  },
  {
   "cell_type": "code",
   "execution_count": 8,
   "id": "e11a845c",
   "metadata": {},
   "outputs": [],
   "source": [
    "# Merge titles and salaries to Employees\n",
    "EByS = pd.merge(Employees, Salary, on='emp_no')\n",
    "SByT = pd.merge(EByS, Title, on='emp_title_id')"
   ]
  },
  {
   "cell_type": "code",
   "execution_count": 9,
   "id": "0eda1673",
   "metadata": {},
   "outputs": [
    {
     "data": {
      "image/png": "[encoded data removed]",
      "text/plain": [
       "<Figure size 1440x288 with 1 Axes>"
      ]
     },
     "metadata": {
      "needs_background": "light"
     },
     "output_type": "display_data"
    }
   ],
   "source": [
    "# Get average Salary by Title \n",
    "SalaryByTitle = pd.DataFrame(SByT.groupby('title')['salary'].mean())\n",
    "\n",
    "# plot average salaries \n",
    "SalaryByTitle.plot(xlabel=\"JobTitle\", ylabel=\"Salary\", kind=\"bar\", figsize=(20,4), color='darkblue')\n",
    "plt.title('Average Salary by Job Title');"
   ]
  },
  {
   "cell_type": "markdown",
   "id": "35906faa",
   "metadata": {},
   "source": [
    "###  Salary by Title Analysis \n",
    "#### This is unlikely to be real data. The bar chart above shows that all job title with the word engineer in them have the same average salary. This is repeated for the staff roles. It is not resonable that a an assistant engineer would have a salary on par with a senior engineer. It is safe to say if this were to be an accurate dataset, the company in question needs to reevaluate its compensation policies. "
   ]
  },
  {
   "cell_type": "markdown",
   "id": "d91d2566",
   "metadata": {},
   "source": [
    "## Alternate Method\n",
    "#### Let SQL do the heavy lifting - Bring the already merged data in from a view\n",
    "The view is just another table in the database for our SQLalchemy purposes.  In this case it combines the three tables we need to look at for our analysis, and strips out most of the unneeded columns. I kept first and last name for my own readibility purposes but they are not required for the analysis. "
   ]
  },
  {
   "cell_type": "code",
   "execution_count": 10,
   "id": "865a7310",
   "metadata": {},
   "outputs": [
    {
     "data": {
      "text/plain": [
       "False"
      ]
     },
     "execution_count": 10,
     "metadata": {},
     "output_type": "execute_result"
    }
   ],
   "source": [
    "# Define variable and get data from db table \n",
    "metadata = db.MetaData()\n",
    "DataIn = db.Table('SalaryTitle_view', metadata, autoload=True, autoload_with=engine) ## no key \n",
    "\n",
    "# Define and call query / Get results and assign to a variable \n",
    "query = db.select([DataIn])\n",
    "ResultProxy = connection.execute(query)\n",
    "ResultSet = ResultProxy.fetchall()\n",
    "\n",
    "# Build Data Frame from query results variable and give it column names from the database\n",
    "SalaryandTitle = pd.DataFrame(ResultSet)\n",
    "SalaryandTitle.columns = ResultSet[0].keys()\n",
    "SalaryandTitle.isnull().values.any()"
   ]
  },
  {
   "cell_type": "code",
   "execution_count": 11,
   "id": "80357bac",
   "metadata": {},
   "outputs": [
    {
     "data": {
      "image/png": "[encoded data removed]",
      "text/plain": [
       "<Figure size 432x288 with 1 Axes>"
      ]
     },
     "metadata": {
      "needs_background": "light"
     },
     "output_type": "display_data"
    },
    {
     "data": {
      "image/png": "[encoded data removed]",
      "text/plain": [
       "<Figure size 1440x288 with 1 Axes>"
      ]
     },
     "metadata": {
      "needs_background": "light"
     },
     "output_type": "display_data"
    }
   ],
   "source": [
    "# Convert the string salary to numbers that can be plotted\n",
    "# When table was created cast salary as money, step to demoneyfy\n",
    "SalaryandTitle['salary'] = SalaryandTitle['salary'].replace({'\\$': '', ',': ''}, regex=True).astype(float)\n",
    "\n",
    "# Display Salary Histogram \n",
    "SalaryandTitle.hist(column='salary');\n",
    "# Get average Salary by Title \n",
    "SalaryByTitle = pd.DataFrame(SalaryandTitle.groupby('title')['salary'].mean())\n",
    "\n",
    "# plot average salaries \n",
    "SalaryByTitle.plot(xlabel=\"JobTitle\", ylabel=\"Salary\", kind=\"bar\", figsize=(20,4), color='darkblue')\n",
    "plt.title('Average Salary by Job Title');"
   ]
  }
 ],
 "metadata": {
  "kernelspec": {
   "display_name": "Python 3 (ipykernel)",
   "language": "python",
   "name": "python3"
  },
  "language_info": {
   "codemirror_mode": {
    "name": "ipython",
    "version": 3
   },
   "file_extension": ".py",
   "mimetype": "text/x-python",
   "name": "python",
   "nbconvert_exporter": "python",
   "pygments_lexer": "ipython3",
   "version": "3.9.7"
  }
 },
 "nbformat": 4,
 "nbformat_minor": 5
}
